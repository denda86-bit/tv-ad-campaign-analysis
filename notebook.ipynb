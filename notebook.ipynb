{
 "cells": [
  {
   "cell_type": "code",
   "execution_count": 1,
   "metadata": {},
   "outputs": [],
   "source": [
    "import numpy as np\n",
    "import pandas as pd\n",
    "import os\n",
    "import datetime\n",
    "\n",
    "# for plotting\n",
    "import matplotlib.pyplot as plt\n",
    "% matplotlib inline\n",
    "import seaborn as sn\n",
    "\n",
    "# to display all the columns of the dataframe in the notebook\n",
    "pd.pandas.set_option('display.max_columns', None)\n",
    "\n",
    "# ignore warnings\n",
    "import warnings\n",
    "warnings.filterwarnings(\"ignore\")\n",
    "\n",
    "# model modules\n",
    "from sklearn.model_selection import train_test_split\n",
    "from sklearn.metrics import mean_squared_error\n",
    "from sklearn.ensemble import GradientBoostingRegressor\n",
    "from scipy import stats"
   ]
  },
  {
   "cell_type": "markdown",
   "metadata": {},
   "source": [
    "### 1. Exploratory analysis"
   ]
  },
  {
   "cell_type": "code",
   "execution_count": 2,
   "metadata": {},
   "outputs": [],
   "source": [
    "def load_data(filename):\n",
    "    \"\"\"\n",
    "    It loads the data from the csv file to a pandas Dataframe.\n",
    "    :param filename: str\n",
    "    :return: pandas Dataframe\n",
    "    \"\"\"\n",
    "    parent_dir = os.getcwd()\n",
    "    df = pd.read_csv(os.path.join(parent_dir, filename))\n",
    "\n",
    "    return df"
   ]
  },
  {
   "cell_type": "code",
   "execution_count": 3,
   "metadata": {},
   "outputs": [],
   "source": [
    "filename_tv_spots = 'spots.csv'\n",
    "filename_traffic = 'traffic.csv'\n",
    "\n",
    "# load datasets\n",
    "df_tv = load_data(filename=filename_tv_spots)\n",
    "df_traffic = load_data(filename=filename_traffic)"
   ]
  },
  {
   "cell_type": "code",
   "execution_count": 4,
   "metadata": {},
   "outputs": [
    {
     "name": "stdout",
     "output_type": "stream",
     "text": [
      "<class 'pandas.core.frame.DataFrame'>\n",
      "RangeIndex: 864 entries, 0 to 863\n",
      "Data columns (total 1 columns):\n",
      "agency_spot_time    864 non-null object\n",
      "dtypes: object(1)\n",
      "memory usage: 6.9+ KB\n"
     ]
    }
   ],
   "source": [
    "# columns and their data type of df_tv dataframe;\n",
    "# 864 datetimes with no missing values\n",
    "df_tv.info()"
   ]
  },
  {
   "cell_type": "code",
   "execution_count": 5,
   "metadata": {
    "scrolled": true
   },
   "outputs": [
    {
     "data": {
      "text/html": [
       "<div>\n",
       "<style scoped>\n",
       "    .dataframe tbody tr th:only-of-type {\n",
       "        vertical-align: middle;\n",
       "    }\n",
       "\n",
       "    .dataframe tbody tr th {\n",
       "        vertical-align: top;\n",
       "    }\n",
       "\n",
       "    .dataframe thead th {\n",
       "        text-align: right;\n",
       "    }\n",
       "</style>\n",
       "<table border=\"1\" class=\"dataframe\">\n",
       "  <thead>\n",
       "    <tr style=\"text-align: right;\">\n",
       "      <th></th>\n",
       "      <th>agency_spot_time</th>\n",
       "    </tr>\n",
       "  </thead>\n",
       "  <tbody>\n",
       "    <tr>\n",
       "      <td>0</td>\n",
       "      <td>07.02.15 09:43</td>\n",
       "    </tr>\n",
       "    <tr>\n",
       "      <td>1</td>\n",
       "      <td>07.02.15 10:27</td>\n",
       "    </tr>\n",
       "    <tr>\n",
       "      <td>2</td>\n",
       "      <td>07.02.15 11:10</td>\n",
       "    </tr>\n",
       "    <tr>\n",
       "      <td>3</td>\n",
       "      <td>07.02.15 12:30</td>\n",
       "    </tr>\n",
       "    <tr>\n",
       "      <td>4</td>\n",
       "      <td>07.02.15 13:01</td>\n",
       "    </tr>\n",
       "  </tbody>\n",
       "</table>\n",
       "</div>"
      ],
      "text/plain": [
       "  agency_spot_time\n",
       "0   07.02.15 09:43\n",
       "1   07.02.15 10:27\n",
       "2   07.02.15 11:10\n",
       "3   07.02.15 12:30\n",
       "4   07.02.15 13:01"
      ]
     },
     "execution_count": 5,
     "metadata": {},
     "output_type": "execute_result"
    }
   ],
   "source": [
    "# visualise the dataset\n",
    "df_tv.head()"
   ]
  },
  {
   "cell_type": "code",
   "execution_count": 6,
   "metadata": {},
   "outputs": [
    {
     "name": "stdout",
     "output_type": "stream",
     "text": [
      "<class 'pandas.core.frame.DataFrame'>\n",
      "RangeIndex: 416264 entries, 0 to 416263\n",
      "Data columns (total 2 columns):\n",
      "index    416264 non-null object\n",
      "total    416264 non-null int64\n",
      "dtypes: int64(1), object(1)\n",
      "memory usage: 6.4+ MB\n"
     ]
    }
   ],
   "source": [
    "# columns and their data type of df_traffic dataframe;\n",
    "# 416264 datetimes with no missing values\n",
    "df_traffic.info()"
   ]
  },
  {
   "cell_type": "code",
   "execution_count": 7,
   "metadata": {
    "scrolled": true
   },
   "outputs": [
    {
     "data": {
      "text/html": [
       "<div>\n",
       "<style scoped>\n",
       "    .dataframe tbody tr th:only-of-type {\n",
       "        vertical-align: middle;\n",
       "    }\n",
       "\n",
       "    .dataframe tbody tr th {\n",
       "        vertical-align: top;\n",
       "    }\n",
       "\n",
       "    .dataframe thead th {\n",
       "        text-align: right;\n",
       "    }\n",
       "</style>\n",
       "<table border=\"1\" class=\"dataframe\">\n",
       "  <thead>\n",
       "    <tr style=\"text-align: right;\">\n",
       "      <th></th>\n",
       "      <th>index</th>\n",
       "      <th>total</th>\n",
       "    </tr>\n",
       "  </thead>\n",
       "  <tbody>\n",
       "    <tr>\n",
       "      <td>0</td>\n",
       "      <td>2015-01-01 00:05:30</td>\n",
       "      <td>1</td>\n",
       "    </tr>\n",
       "    <tr>\n",
       "      <td>1</td>\n",
       "      <td>2015-01-01 00:22:19</td>\n",
       "      <td>1</td>\n",
       "    </tr>\n",
       "    <tr>\n",
       "      <td>2</td>\n",
       "      <td>2015-01-01 00:33:32</td>\n",
       "      <td>1</td>\n",
       "    </tr>\n",
       "    <tr>\n",
       "      <td>3</td>\n",
       "      <td>2015-01-01 01:30:48</td>\n",
       "      <td>1</td>\n",
       "    </tr>\n",
       "    <tr>\n",
       "      <td>4</td>\n",
       "      <td>2015-01-01 01:48:18</td>\n",
       "      <td>1</td>\n",
       "    </tr>\n",
       "  </tbody>\n",
       "</table>\n",
       "</div>"
      ],
      "text/plain": [
       "                 index  total\n",
       "0  2015-01-01 00:05:30      1\n",
       "1  2015-01-01 00:22:19      1\n",
       "2  2015-01-01 00:33:32      1\n",
       "3  2015-01-01 01:30:48      1\n",
       "4  2015-01-01 01:48:18      1"
      ]
     },
     "execution_count": 7,
     "metadata": {},
     "output_type": "execute_result"
    }
   ],
   "source": [
    "# visualise the dataset\n",
    "df_traffic.head()"
   ]
  },
  {
   "cell_type": "code",
   "execution_count": 8,
   "metadata": {
    "scrolled": true
   },
   "outputs": [],
   "source": [
    "# now let's parse the dates for tv and traffic data, \n",
    "# currently cast as objects, into datetime format\n",
    "df_traffic['index'] = pd.to_datetime(df_traffic['index'].str.strip()\n",
    "                                     , format='%Y-%m-%d %H:%M:%S')\n",
    "df_tv['agency_spot_time'] = pd.to_datetime(df_tv.agency_spot_time.astype(str).str.strip()\n",
    "                                           , format='%d.%m.%y %H:%M')"
   ]
  },
  {
   "cell_type": "code",
   "execution_count": 9,
   "metadata": {},
   "outputs": [],
   "source": [
    "# set the index column as index of the dataframe df_traffic \n",
    "df_traffic.set_index('index', inplace=True)\n",
    "# sorting datetimes in ascending oder\n",
    "df_traffic.sort_index(inplace=True)\n",
    "\n",
    "# set the agency_spot_time column as index of the dataframe df_tv\n",
    "df_tv.set_index('agency_spot_time', inplace=True)\n",
    "# sorting datetimes in ascending oder\n",
    "df_tv.sort_index(inplace=True)"
   ]
  },
  {
   "cell_type": "markdown",
   "metadata": {},
   "source": [
    "Information about the maximal and minimal datetime in the dataframe both for tv spots info\n",
    "and traffic"
   ]
  },
  {
   "cell_type": "code",
   "execution_count": 10,
   "metadata": {},
   "outputs": [
    {
     "name": "stdout",
     "output_type": "stream",
     "text": [
      "Minimal datetime 2015-02-07 09:43:00 and maximal datetime 2015-04-14 23:08:00 of tv aired spots\n",
      "Minimal datetime 2015-01-01 00:05:30 and maximal datetime 2015-06-30 23:36:56 in the traffic data\n"
     ]
    }
   ],
   "source": [
    "print('Minimal datetime {} and maximal datetime {} of tv aired spots'\n",
    "      .format(df_tv.index.min(), df_tv.index.max()))\n",
    "print('Minimal datetime {} and maximal datetime {} in the traffic data'\n",
    "      .format(df_traffic.index.min(), df_traffic.index.max()))"
   ]
  },
  {
   "cell_type": "code",
   "execution_count": 11,
   "metadata": {},
   "outputs": [],
   "source": [
    "# aggreagate the sum of impressions on the website by minute\n",
    "agg_1m = df_traffic.groupby(pd.Grouper(freq='1Min')).aggregate(np.sum)"
   ]
  },
  {
   "cell_type": "code",
   "execution_count": 12,
   "metadata": {},
   "outputs": [
    {
     "data": {
      "text/html": [
       "<div>\n",
       "<style scoped>\n",
       "    .dataframe tbody tr th:only-of-type {\n",
       "        vertical-align: middle;\n",
       "    }\n",
       "\n",
       "    .dataframe tbody tr th {\n",
       "        vertical-align: top;\n",
       "    }\n",
       "\n",
       "    .dataframe thead th {\n",
       "        text-align: right;\n",
       "    }\n",
       "</style>\n",
       "<table border=\"1\" class=\"dataframe\">\n",
       "  <thead>\n",
       "    <tr style=\"text-align: right;\">\n",
       "      <th></th>\n",
       "      <th>total</th>\n",
       "    </tr>\n",
       "    <tr>\n",
       "      <th>index</th>\n",
       "      <th></th>\n",
       "    </tr>\n",
       "  </thead>\n",
       "  <tbody>\n",
       "    <tr>\n",
       "      <td>2015-01-01 00:05:00</td>\n",
       "      <td>1</td>\n",
       "    </tr>\n",
       "    <tr>\n",
       "      <td>2015-01-01 00:06:00</td>\n",
       "      <td>0</td>\n",
       "    </tr>\n",
       "    <tr>\n",
       "      <td>2015-01-01 00:07:00</td>\n",
       "      <td>0</td>\n",
       "    </tr>\n",
       "    <tr>\n",
       "      <td>2015-01-01 00:08:00</td>\n",
       "      <td>0</td>\n",
       "    </tr>\n",
       "    <tr>\n",
       "      <td>2015-01-01 00:09:00</td>\n",
       "      <td>0</td>\n",
       "    </tr>\n",
       "  </tbody>\n",
       "</table>\n",
       "</div>"
      ],
      "text/plain": [
       "                     total\n",
       "index                     \n",
       "2015-01-01 00:05:00      1\n",
       "2015-01-01 00:06:00      0\n",
       "2015-01-01 00:07:00      0\n",
       "2015-01-01 00:08:00      0\n",
       "2015-01-01 00:09:00      0"
      ]
     },
     "execution_count": 12,
     "metadata": {},
     "output_type": "execute_result"
    }
   ],
   "source": [
    "# visualise the data aggreation by minute\n",
    "agg_1m.head()"
   ]
  },
  {
   "cell_type": "code",
   "execution_count": 13,
   "metadata": {
    "scrolled": true
   },
   "outputs": [
    {
     "data": {
      "text/plain": [
       "count    260612.000000\n",
       "mean          1.659801\n",
       "std           2.695045\n",
       "min           0.000000\n",
       "25%           0.000000\n",
       "50%           1.000000\n",
       "75%           3.000000\n",
       "max         140.000000\n",
       "Name: total, dtype: float64"
      ]
     },
     "execution_count": 13,
     "metadata": {},
     "output_type": "execute_result"
    }
   ],
   "source": [
    "# information about the distribution of impressions' sum in minute\n",
    "agg_1m.total.describe()"
   ]
  },
  {
   "cell_type": "code",
   "execution_count": 14,
   "metadata": {
    "scrolled": true
   },
   "outputs": [
    {
     "data": {
      "text/plain": [
       "<matplotlib.axes._subplots.AxesSubplot at 0x10903f9b0>"
      ]
     },
     "execution_count": 14,
     "metadata": {},
     "output_type": "execute_result"
    },
    {
     "data": {
      "image/png": "[encoded data removed]",
      "text/plain": [
       "<matplotlib.figure.Figure at 0x10903f1d0>"
      ]
     },
     "metadata": {
      "needs_background": "light"
     },
     "output_type": "display_data"
    }
   ],
   "source": [
    "# plotting impressions' sum per minute\n",
    "# We can see that for the time window of the tv campaign \n",
    "# (2015-02-07 09:43:00, 2015-04-14 23:08:00) \n",
    "# there is a significant increase of impressions.\n",
    "agg_1m.total.plot()"
   ]
  },
  {
   "cell_type": "code",
   "execution_count": 15,
   "metadata": {},
   "outputs": [],
   "source": [
    "# Later the dataframe of tv spots will be merge with the traffic data. \n",
    "# For that, the index of df_tv will have a floor of minutes\n",
    "# but the tv spots' original timestamp with possible seconds is saved in the tv_spot column\n",
    "df_tv['tv_spot'] = df_tv.index\n",
    "df_tv.index = df_tv.index.floor('Min')"
   ]
  },
  {
   "cell_type": "markdown",
   "metadata": {},
   "source": [
    "### 2. Impact of TV campaign on the traffic data\n",
    "\n",
    "To quantify the impact of the TV splot on the traffic data, the observed traffic during the  TV spot airing must be compared with the natural traffic, which could have been seen without any TV spot. In this sense we need to define a baseline, which would respresent how the natural traffic would have looked like in absence of a TV spot. The visitors attributed to the spot itself are calculated as the difference between the generated traffic and the computed baseline.\n",
    "\n",
    "There are many ways to define a baseline. A first approach defines the baseline as the linear interpolation between 20 minutes before and after the defined TV impact window. For this type of baseline, the temporarly airings of the consecutive tv spots shouldn't be close to each other. \n",
    "\n",
    "A second approach concerns the creation of a baseline, where the data before and after the time window of the tv campaign is considered to be modelled. Compared to the first approach, the second one makes sure that daytime, seasonal and other normal variations will be taken into account as trends in the model. "
   ]
  },
  {
   "cell_type": "code",
   "execution_count": 16,
   "metadata": {},
   "outputs": [],
   "source": [
    "# difference in minutes between consecitive tv_spots\n",
    "df_tv['diff_mins'] = df_tv.tv_spot.diff().astype('timedelta64[m]')"
   ]
  },
  {
   "cell_type": "code",
   "execution_count": 17,
   "metadata": {
    "scrolled": false
   },
   "outputs": [
    {
     "data": {
      "text/plain": [
       "count     863.000000\n",
       "mean      111.060255\n",
       "std       176.705789\n",
       "min         0.000000\n",
       "25%        20.000000\n",
       "50%        48.000000\n",
       "75%       108.500000\n",
       "max      1003.000000\n",
       "Name: diff_mins, dtype: float64"
      ]
     },
     "execution_count": 17,
     "metadata": {},
     "output_type": "execute_result"
    }
   ],
   "source": [
    "df_tv['diff_mins'].describe()"
   ]
  },
  {
   "cell_type": "code",
   "execution_count": 18,
   "metadata": {
    "scrolled": true
   },
   "outputs": [
    {
     "data": {
      "text/plain": [
       "0.24537037037037038"
      ]
     },
     "execution_count": 18,
     "metadata": {},
     "output_type": "execute_result"
    }
   ],
   "source": [
    "# the percentage of tv_spots aired within a time window of 20 minutes represents more the 20% \n",
    "# the total number of tv spots.\n",
    "len(df_tv.loc[df_tv['diff_mins']<20])/len(df_tv)"
   ]
  },
  {
   "cell_type": "markdown",
   "metadata": {},
   "source": [
    "For this reason, the second approach to model the baseline will be implemented. New features are created which could explain the organic fluctuations of the visits:\n",
    "1. seasonality component\n",
    "2. day of the week\n",
    "3. hour of the day\n",
    "4. weekend"
   ]
  },
  {
   "cell_type": "code",
   "execution_count": 19,
   "metadata": {},
   "outputs": [],
   "source": [
    "# numerical encoding for month\n",
    "agg_1m['month'] = agg_1m.index.month"
   ]
  },
  {
   "cell_type": "code",
   "execution_count": 20,
   "metadata": {},
   "outputs": [],
   "source": [
    "# numerical encoding for season\n",
    "agg_1m['season'] = agg_1m.month.apply(lambda x: (x%12 + 3)//3)"
   ]
  },
  {
   "cell_type": "code",
   "execution_count": 21,
   "metadata": {},
   "outputs": [],
   "source": [
    "# since the data are for only few months and only from one year, \n",
    "# this feature is unnecessary for the impressions' prediction\n",
    "agg_1m.drop(columns='month', inplace=True)"
   ]
  },
  {
   "cell_type": "code",
   "execution_count": 22,
   "metadata": {},
   "outputs": [],
   "source": [
    "# # numerical encoding for the day within a week\n",
    "# Monday = 0, Tuesday = 1, Wednesday= 2, Thursday = 3, Friday = 4,\n",
    "# Saturday = 5, Sunday is 6.\n",
    "agg_1m['weekday'] = agg_1m.index.weekday"
   ]
  },
  {
   "cell_type": "code",
   "execution_count": 23,
   "metadata": {},
   "outputs": [],
   "source": [
    "# increasing numerical encoding for day hour\n",
    "agg_1m['hour'] = agg_1m.index.hour"
   ]
  },
  {
   "cell_type": "code",
   "execution_count": 24,
   "metadata": {},
   "outputs": [],
   "source": [
    "# binary weekend feature (weekend includes Saturday and Sunday)\n",
    "agg_1m['is_weekend'] = 0\n",
    "agg_1m.loc[(agg_1m['weekday'] == 5) |\n",
    "             (agg_1m['weekday'] == 6), 'is_weekend'] = 1"
   ]
  },
  {
   "cell_type": "code",
   "execution_count": 25,
   "metadata": {},
   "outputs": [],
   "source": [
    "# extraction of the start and end date of the tv campaign\n",
    "min_tv = df_tv.index.min()\n",
    "max_tv = df_tv.index.max()\n",
    "\n",
    "# traffic data where data from the tv campaign is excluded\n",
    "mask = (agg_1m.index < min_tv) | (agg_1m.index > max_tv)\n",
    "agg_1m_not_tv = agg_1m.loc[mask]\n",
    "\n",
    "# traffic data only from the tv campaign is selected\n",
    "mask_tv = (agg_1m.index >= min_tv) & (agg_1m.index <= max_tv)\n",
    "agg_1m_tv = agg_1m.loc[mask_tv]"
   ]
  },
  {
   "cell_type": "code",
   "execution_count": 26,
   "metadata": {
    "scrolled": true
   },
   "outputs": [
    {
     "data": {
      "text/plain": [
       "<matplotlib.axes._subplots.AxesSubplot at 0x117d51630>"
      ]
     },
     "execution_count": 26,
     "metadata": {},
     "output_type": "execute_result"
    },
    {
     "data": {
      "image/png": "[encoded data removed]",
      "text/plain": [
       "<matplotlib.figure.Figure at 0x104cbb7b8>"
      ]
     },
     "metadata": {
      "needs_background": "light"
     },
     "output_type": "display_data"
    }
   ],
   "source": [
    "agg_1m_tv.total.plot()"
   ]
  },
  {
   "cell_type": "code",
   "execution_count": 27,
   "metadata": {
    "scrolled": false
   },
   "outputs": [
    {
     "data": {
      "image/png": "[encoded data removed]",
      "text/plain": [
       "<matplotlib.figure.Figure at 0x117d517b8>"
      ]
     },
     "metadata": {
      "needs_background": "light"
     },
     "output_type": "display_data"
    }
   ],
   "source": [
    "# visualization of visitors at the leisure attraction\n",
    "# for month and day of the week\n",
    "agg_1m_not_tv['day_name'] = agg_1m_not_tv.index.day_name()\n",
    "fig, ax = plt.subplots(figsize=(10,5))\n",
    "sn.pointplot(data=agg_1m_not_tv[['day_name', 'total', 'hour']],\n",
    "            x='hour', y='total',\n",
    "            hue='day_name', ax=ax)\n",
    "agg_1m_not_tv.drop(columns=['day_name'], inplace=True)"
   ]
  },
  {
   "cell_type": "markdown",
   "metadata": {},
   "source": [
    "Although a pattern of impressions can be indentified through the day hours, this pattern is really similar accross days of the week."
   ]
  },
  {
   "cell_type": "code",
   "execution_count": 28,
   "metadata": {
    "scrolled": true
   },
   "outputs": [
    {
     "data": {
      "text/plain": [
       "<matplotlib.axes._subplots.AxesSubplot at 0x119ce4a58>"
      ]
     },
     "execution_count": 28,
     "metadata": {},
     "output_type": "execute_result"
    },
    {
     "data": {
      "image/png": "[encoded data removed]",
      "text/plain": [
       "<matplotlib.figure.Figure at 0x11c208048>"
      ]
     },
     "metadata": {
      "needs_background": "light"
     },
     "output_type": "display_data"
    }
   ],
   "source": [
    "fig, ax = plt.subplots(figsize=(10,5))\n",
    "sn.pointplot(data=agg_1m_not_tv[['total', 'season']],\n",
    "            x='season', y='total', ax=ax)"
   ]
  },
  {
   "cell_type": "markdown",
   "metadata": {},
   "source": [
    "The different three seasons are displayed and only a slight increase in the visits can be seen in the months of April, May and June."
   ]
  },
  {
   "cell_type": "code",
   "execution_count": 29,
   "metadata": {
    "scrolled": true
   },
   "outputs": [
    {
     "data": {
      "text/plain": [
       "<matplotlib.axes._subplots.AxesSubplot at 0x11c0efc88>"
      ]
     },
     "execution_count": 29,
     "metadata": {},
     "output_type": "execute_result"
    },
    {
     "data": {
      "image/png": "[encoded data removed]",
      "text/plain": [
       "<matplotlib.figure.Figure at 0x119ce4be0>"
      ]
     },
     "metadata": {
      "needs_background": "light"
     },
     "output_type": "display_data"
    }
   ],
   "source": [
    "fig, ax = plt.subplots(figsize=(10,5))\n",
    "sn.pointplot(data=agg_1m_not_tv[['total', 'is_weekend']],\n",
    "            x='is_weekend', y='total', ax=ax)"
   ]
  },
  {
   "cell_type": "markdown",
   "metadata": {},
   "source": [
    "The binary feature for weekend is displayed, which a slight decrease in visits can be seen for the weekend compared to the rest of the week. We have to admit that the visits show high variance, especially for the weekend."
   ]
  },
  {
   "cell_type": "markdown",
   "metadata": {},
   "source": [
    "Based on the information about the season (seasonality), weekend, week day and day hour, the number of visits can be predicted. Linear models are not recommended for this problem because of assumptions that can't be met. Instead tree-based methods don't have any particular assumption, and in particular gradient-boosted trees,  which generally perform better than a random forest or extra randomized trees."
   ]
  },
  {
   "cell_type": "code",
   "execution_count": 30,
   "metadata": {},
   "outputs": [],
   "source": [
    "def train_test_km(df, target_var, test_size):\n",
    "    \"\"\"\n",
    "    The dataset is split in training and test data based on the test_size\n",
    "    The Kolmogorov-Smirnov statistics is executed to verify weather the feature\n",
    "    distributions between train and test are significantly dissimilar.\n",
    "    :param df: pandas Dataframe\n",
    "    :param test_size: float\n",
    "    :return: numpy array, numpy array, numpy array, numpy array\n",
    "    \"\"\"\n",
    "    Y = df[target_var].values\n",
    "    df_ = df.drop(columns=target_var)\n",
    "    X = df_.values\n",
    "    X_train, X_test, y_train, y_test = train_test_split(X, Y, test_size=test_size,\n",
    "                                                        random_state=0)\n",
    "    # Kolmogorov-Smirnov statistics\n",
    "    # to check whether the data come from the same distribution\n",
    "    xtrain = pd.DataFrame(X_train, columns=df_.columns)\n",
    "    xtest = pd.DataFrame(X_test, columns=df_.columns)\n",
    "    for col in df_:\n",
    "        _, pvalue = stats.ks_2samp(xtrain[col], xtest[col])\n",
    "        if pvalue < 0.05:\n",
    "            print(\"For the feature {}, the distributions of train and test\"\n",
    "                  \"samples are significantly dissimilar with a p-value of {}.\"\n",
    "                  .format(col, str(pvalue)))\n",
    "\n",
    "    return X_train, X_test, y_train, y_test"
   ]
  },
  {
   "cell_type": "code",
   "execution_count": 31,
   "metadata": {
    "scrolled": true
   },
   "outputs": [],
   "source": [
    "# splitting the data in train and test sets\n",
    "X_train, X_test, y_train, y_test = \\\n",
    "    train_test_km(df=agg_1m_not_tv, target_var=\"total\", test_size=0.20)"
   ]
  },
  {
   "cell_type": "code",
   "execution_count": 32,
   "metadata": {
    "scrolled": true
   },
   "outputs": [
    {
     "name": "stdout",
     "output_type": "stream",
     "text": [
      "RMSE = 1.1983676260425682\n"
     ]
    }
   ],
   "source": [
    "# modelling with gradient boosting regressor\n",
    "model = GradientBoostingRegressor(n_estimators=1000, random_state=0)\n",
    "model.fit(X_train, y_train)\n",
    "\n",
    "# predictions on the test set\n",
    "predictions = model.predict(X_test)\n",
    "# the root of the squared mean error is chosen as evaluation metric\n",
    "print('RMSE = {}'.format(str(np.sqrt(mean_squared_error(y_test, predictions)))))"
   ]
  },
  {
   "cell_type": "code",
   "execution_count": 33,
   "metadata": {
    "scrolled": false
   },
   "outputs": [
    {
     "data": {
      "text/plain": [
       "<matplotlib.axes._subplots.AxesSubplot at 0x114d7c438>"
      ]
     },
     "execution_count": 33,
     "metadata": {},
     "output_type": "execute_result"
    },
    {
     "data": {
      "image/png": "[encoded data removed]",
      "text/plain": [
       "<matplotlib.figure.Figure at 0x114d74cc0>"
      ]
     },
     "metadata": {
      "needs_background": "light"
     },
     "output_type": "display_data"
    }
   ],
   "source": [
    "# the importance of the variables is displayed and it is visible \n",
    "# that the hour is the most and only feature explaining the visits\n",
    "important_features = pd.Series(data=model.feature_importances_,\n",
    "                               index=agg_1m_not_tv.drop(columns='total').columns.values)\n",
    "important_features.sort_values(ascending=False, inplace=True)\n",
    "important_features.plot(kind='bar')"
   ]
  },
  {
   "cell_type": "code",
   "execution_count": 34,
   "metadata": {},
   "outputs": [],
   "source": [
    "# based on the features created the model predictions are applied on the data \n",
    "# from the time window of the tv campaign\n",
    "agg_1m_tv['baseline'] = model.predict(agg_1m_tv.drop(columns=['total']))"
   ]
  },
  {
   "cell_type": "code",
   "execution_count": 35,
   "metadata": {},
   "outputs": [],
   "source": [
    "# the users attributed to the tv spots are calculated \n",
    "# by the difference between total visits and baseline predicted visits \n",
    "agg_1m_tv['attributed_traffic'] = agg_1m_tv.total-agg_1m_tv.baseline"
   ]
  },
  {
   "cell_type": "code",
   "execution_count": 36,
   "metadata": {},
   "outputs": [],
   "source": [
    "# traffic data is merged with the tv spots dataframe\n",
    "attr_df = agg_1m_tv.merge(df_tv[['tv_spot']],\n",
    "                                 left_index=True, right_index=True, how='left')"
   ]
  },
  {
   "cell_type": "code",
   "execution_count": 37,
   "metadata": {},
   "outputs": [],
   "source": [
    "# selection and rename of some columns\n",
    "attribution_df = attr_df[['total', 'attributed_traffic', 'tv_spot']]"
   ]
  },
  {
   "cell_type": "code",
   "execution_count": 38,
   "metadata": {},
   "outputs": [],
   "source": [
    "attribution_df.rename(columns={'total':'total_traffic'}, inplace=True)"
   ]
  },
  {
   "cell_type": "code",
   "execution_count": 39,
   "metadata": {
    "scrolled": true
   },
   "outputs": [
    {
     "data": {
      "text/html": [
       "<div>\n",
       "<style scoped>\n",
       "    .dataframe tbody tr th:only-of-type {\n",
       "        vertical-align: middle;\n",
       "    }\n",
       "\n",
       "    .dataframe tbody tr th {\n",
       "        vertical-align: top;\n",
       "    }\n",
       "\n",
       "    .dataframe thead th {\n",
       "        text-align: right;\n",
       "    }\n",
       "</style>\n",
       "<table border=\"1\" class=\"dataframe\">\n",
       "  <thead>\n",
       "    <tr style=\"text-align: right;\">\n",
       "      <th></th>\n",
       "      <th>total_traffic</th>\n",
       "      <th>attributed_traffic</th>\n",
       "      <th>tv_spot</th>\n",
       "    </tr>\n",
       "  </thead>\n",
       "  <tbody>\n",
       "    <tr>\n",
       "      <td>2015-02-07 09:43:00</td>\n",
       "      <td>17</td>\n",
       "      <td>15.225938</td>\n",
       "      <td>2015-02-07 09:43:00</td>\n",
       "    </tr>\n",
       "    <tr>\n",
       "      <td>2015-02-07 09:44:00</td>\n",
       "      <td>24</td>\n",
       "      <td>22.225938</td>\n",
       "      <td>NaT</td>\n",
       "    </tr>\n",
       "    <tr>\n",
       "      <td>2015-02-07 09:45:00</td>\n",
       "      <td>6</td>\n",
       "      <td>4.225938</td>\n",
       "      <td>NaT</td>\n",
       "    </tr>\n",
       "    <tr>\n",
       "      <td>2015-02-07 09:46:00</td>\n",
       "      <td>3</td>\n",
       "      <td>1.225938</td>\n",
       "      <td>NaT</td>\n",
       "    </tr>\n",
       "    <tr>\n",
       "      <td>2015-02-07 09:47:00</td>\n",
       "      <td>1</td>\n",
       "      <td>-0.774062</td>\n",
       "      <td>NaT</td>\n",
       "    </tr>\n",
       "  </tbody>\n",
       "</table>\n",
       "</div>"
      ],
      "text/plain": [
       "                     total_traffic  attributed_traffic             tv_spot\n",
       "2015-02-07 09:43:00             17           15.225938 2015-02-07 09:43:00\n",
       "2015-02-07 09:44:00             24           22.225938                 NaT\n",
       "2015-02-07 09:45:00              6            4.225938                 NaT\n",
       "2015-02-07 09:46:00              3            1.225938                 NaT\n",
       "2015-02-07 09:47:00              1           -0.774062                 NaT"
      ]
     },
     "execution_count": 39,
     "metadata": {},
     "output_type": "execute_result"
    }
   ],
   "source": [
    "attribution_df.head()"
   ]
  },
  {
   "cell_type": "markdown",
   "metadata": {},
   "source": [
    "Although the start of the tv-induced uplift can be represented by the airing of the tv spot, its end is defined by two factors:\n",
    "\n",
    "1. The natural and dynamic end of an tv-induced uplift it is defined when the attributed visits are equal to zero or show a negative value, meaning that the predicted visits are higher than the actual visits. \n",
    "2. If the natural end is not found within 20 minutes after the airing of the tv spot, an artificial end is given to tv-induced uplift."
   ]
  },
  {
   "cell_type": "code",
   "execution_count": 40,
   "metadata": {},
   "outputs": [],
   "source": [
    "# Converting the index as date\n",
    "attribution_df.index = pd.to_datetime(attribution_df.index)\n",
    "\n",
    "def define_start_end_tv_uplift(data, col_tv_spot, col_attrib_visits, duration):\n",
    "    \"\"\"\n",
    "    It iterates through all the tv spot datatimes and for each one the attributed visits'\n",
    "    values which are equal or below zero are selected. If the selected dataframe is empty,\n",
    "    an artifical end is given to the tv-induced uplift with a duration \n",
    "    given by the function paramenter.Otherwise the earliest datetime \n",
    "    is chosed as natural end of the tv-induced uplift.\n",
    "    :param data: Dataframe\n",
    "    :param col_tv_spot: string\n",
    "    :param col_attrib_visits: string\n",
    "    :param duration: integer\n",
    "    return Dataframe\n",
    "    \"\"\"\n",
    "    # new column is created\n",
    "    data['tv_spot_uplift'] = None\n",
    "    for tv_spot in data[col_tv_spot].dropna().tolist():\n",
    "        start_uplift = tv_spot\n",
    "        # definition of the artificial end\n",
    "        artificial_end_tv_spot = start_uplift + datetime.timedelta(minutes=duration)\n",
    "        #  selected all the data point which are greater than the uplift start,\n",
    "        #  which are before the arificial end and whose value for the attributed visits is \n",
    "        #  equal or below zero.\n",
    "        temp_mask = (data.index >= start_uplift) & (data.index <= artificial_end_tv_spot) & (data[col_attrib_visits] <= 0)\n",
    "        temp_df = data[temp_mask]\n",
    "        \n",
    "        #  if the selected dataframe is not empty,\n",
    "        #  the earliest index is chosen as the natural end, otherwise the artificial end.       \n",
    "        if len(temp_df)>0:\n",
    "            end_uplift = temp_df.index.min()\n",
    "        else:\n",
    "            end_uplift = artificial_end_tv_spot\n",
    "        # in the new column the uplift start is repeated for all the datapoints which belong \n",
    "        # to the time window of tv-induced uplift        \n",
    "        data.loc[(data.index >= start_uplift) \n",
    "                           & (data.index < end_uplift), \n",
    "                           'tv_spot_uplift'] = start_uplift\n",
    "    # the old column with tv_spot information is dropped from the dataframe\n",
    "    data.drop(columns=col_tv_spot, inplace=True)\n",
    "        \n",
    "    return data\n"
   ]
  },
  {
   "cell_type": "code",
   "execution_count": 41,
   "metadata": {
    "scrolled": true
   },
   "outputs": [],
   "source": [
    "# definition of the start and end of an tv-induced uplift\n",
    "attribution_df = define_start_end_tv_uplift(data=attribution_df, col_tv_spot='tv_spot', \n",
    "                               col_attrib_visits='attributed_traffic', duration=20)"
   ]
  },
  {
   "cell_type": "code",
   "execution_count": 42,
   "metadata": {
    "scrolled": false
   },
   "outputs": [],
   "source": [
    "save_df = attribution_df.reset_index()\n",
    "save_df.rename(columns={'index': 'timestamp'}, inplace=True)"
   ]
  },
  {
   "cell_type": "markdown",
   "metadata": {},
   "source": [
    "I saved the dataset with also an additional column (tv_spot_uplift) where the tv_spot timestamp is repeated for the time window of the found tv-induced uplift."
   ]
  },
  {
   "cell_type": "code",
   "execution_count": 43,
   "metadata": {},
   "outputs": [],
   "source": [
    "save_df.to_csv(\"tv_attribution.csv\", index=False)"
   ]
  },
  {
   "cell_type": "markdown",
   "metadata": {},
   "source": [
    "### 3. Plotting time series: \n",
    "\n",
    "Below a random day included in the tv campaign is shown: on the x-axis the hours are displayed, whereas on the y-axis the count of visits can be seen. The blu line represents the actual visits; the orange line instead represents the baseline predicted values for that hour.\n",
    "The dashed vertical red lines represent instead the airings of different tv spots."
   ]
  },
  {
   "cell_type": "code",
   "execution_count": 44,
   "metadata": {
    "scrolled": true
   },
   "outputs": [
    {
     "data": {
      "image/png": "[encoded data removed]",
      "text/plain": [
       "<matplotlib.figure.Figure at 0x11bbd0240>"
      ]
     },
     "metadata": {
      "needs_background": "light"
     },
     "output_type": "display_data"
    }
   ],
   "source": [
    "example_day = attr_df.loc[attr_df.index.date == datetime.date(2015, 2, 14)]\n",
    "example_day[['total', 'baseline']].plot(figsize=(10,5))\n",
    "for tv_spot in example_day.tv_spot.dropna().tolist():\n",
    "    plt.axvline(tv_spot, color='r', linestyle='--', lw=0.5)"
   ]
  },
  {
   "cell_type": "markdown",
   "metadata": {},
   "source": [
    "### 4. Improvements if I had more time \n",
    "\n",
    "1. Improvements for the implemented model: \n",
    "    - cross validation to the training set\n",
    "    - variable selection methods, since we see that only hour represents the predictive variable for the website visits\n",
    "    - model selection: I have chosen gradient boosting which is known to performs better than other tree-based models, but a comparision accross them would be recommended\n",
    "    - the root of the mean suared error is pretty high: this can be do to high bias (the model is not complex enough) or high variance (overfitting on the traning data and poor performance on the test data) or both. I would check for that comparing the error on the training and test set and based on the outcome I would amke the adjustments.\n",
    "\n",
    "\n",
    "2. Choice of the model: Structural time series models are recommended for time series forecasting : they are set up as a regression model in which the variables are in function of time, but their coeffiecients can change over time. The flexibility of letting the regression coefficients change over time is not provided by the model implemented in this task.\n",
    "\n",
    "\n",
    "3. The implemented calculation of the attributed visits does not take into account the case of overlapping tv spots. To account for that, attributed visits can be weighted for the the reach of the tv spot."
   ]
  }
 ],
 "metadata": {
  "kernelspec": {
   "display_name": "Python 3",
   "language": "python",
   "name": "python3"
  },
  "language_info": {
   "codemirror_mode": {
    "name": "ipython",
    "version": 3
   },
   "file_extension": ".py",
   "mimetype": "text/x-python",
   "name": "python",
   "nbconvert_exporter": "python",
   "pygments_lexer": "ipython3",
   "version": "3.6.1"
  }
 },
 "nbformat": 4,
 "nbformat_minor": 2
}
